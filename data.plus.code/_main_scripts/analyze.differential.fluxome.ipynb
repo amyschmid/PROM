{
 "cells": [
  {
   "cell_type": "code",
   "execution_count": 33,
   "metadata": {
    "collapsed": false
   },
   "outputs": [
    {
     "data": {
      "text/plain": [
       "u'/Users/firas/Box Sync/Home Folder fsm3/Sync/schmid/data.plus.code/_main_scripts'"
      ]
     },
     "execution_count": 33,
     "metadata": {},
     "output_type": "execute_result"
    }
   ],
   "source": [
    "%pwd"
   ]
  },
  {
   "cell_type": "code",
   "execution_count": 34,
   "metadata": {
    "collapsed": false
   },
   "outputs": [],
   "source": [
    "from scipy.io import loadmat\n",
    "\n",
    "import pandas as pd, \\\n",
    "       numpy  as np, \\\n",
    "       matplotlib.pyplot as plt, \\\n",
    "       seaborn as sns\n",
    "        \n",
    "%matplotlib inline"
   ]
  },
  {
   "cell_type": "markdown",
   "metadata": {},
   "source": [
    "###Find index for biomass turnover flux in FBA model "
   ]
  },
  {
   "cell_type": "code",
   "execution_count": 35,
   "metadata": {
    "collapsed": false
   },
   "outputs": [
    {
     "data": {
      "text/plain": [
       "660"
      ]
     },
     "execution_count": 35,
     "metadata": {},
     "output_type": "execute_result"
    }
   ],
   "source": [
    "rxns          = pd.read_csv('../_model_definition/transitionIds.txt',sep='\\t',header=None,index_col=None)\n",
    "rxn_ids       = [x.strip() for x in np.ravel(rxns.values)];\n",
    "biomass_index = np.where([rxn_ids[x]=='ER90000' for x in range(len(rxn_ids))])[0][0]\n",
    "biomass_index"
   ]
  },
  {
   "cell_type": "markdown",
   "metadata": {},
   "source": [
    "###Load PROM/FBA-predicted fluxes"
   ]
  },
  {
   "cell_type": "code",
   "execution_count": 36,
   "metadata": {
    "collapsed": false
   },
   "outputs": [],
   "source": [
    "matlab = loadmat('../_main_scripts/_output/PROM_HaloS_output.mat');\n",
    "v0_all = matlab['v0_all']\n",
    "v_all  = matlab['v_all']\n",
    "\n",
    "halos = pd.read_csv('../_model_definition/gonzalez_midani_reconstruction_2015_08_16.txt',sep='\\t',header=0,index_col=0).fillna('')"
   ]
  },
  {
   "cell_type": "code",
   "execution_count": 37,
   "metadata": {
    "collapsed": false
   },
   "outputs": [],
   "source": [
    "v07_all = v0_all[0:780,7]\n",
    "v7_all  =  v_all[0:780,7]"
   ]
  },
  {
   "cell_type": "code",
   "execution_count": 38,
   "metadata": {
    "collapsed": false,
    "scrolled": true
   },
   "outputs": [
    {
     "data": {
      "text/plain": [
       "<matplotlib.text.Text at 0x106b0d090>"
      ]
     },
     "execution_count": 38,
     "metadata": {},
     "output_type": "execute_result"
    },
    {
     "data": {
      "image/png": "[encoded data removed]",
      "text/plain": [
       "<matplotlib.figure.Figure at 0x106aaee90>"
      ]
     },
     "metadata": {},
     "output_type": "display_data"
    }
   ],
   "source": [
    "sns.set()\n",
    "plt.figure(figsize=[4,4])\n",
    "plt.plot(np.sort(abs(v07_all)),lw=4)\n",
    "plt.yscale('log')\n",
    "plt.xticks(fontsize=12)\n",
    "plt.yticks(fontsize=12)\n",
    "plt.xlabel('reaction index',fontsize=16)\n",
    "plt.ylabel('reaction flux',fontsize=16)\n",
    "plt.title('reactions sorted by flux',fontsize=16)"
   ]
  },
  {
   "cell_type": "markdown",
   "metadata": {},
   "source": [
    "###Characterize impact of trmB knockout on each reaction in the model"
   ]
  },
  {
   "cell_type": "code",
   "execution_count": 39,
   "metadata": {
    "collapsed": false
   },
   "outputs": [
    {
     "name": "stdout",
     "output_type": "stream",
     "text": [
      "[26, 11, 76, 228, 12, 35, 392]\n"
     ]
    }
   ],
   "source": [
    "def classify_fluxe_changes(wt,ko):\n",
    "    turn_on,turn_off,turn_up,turn_down,reverse,remain_same,remain_off = ([] for i in range(7))\n",
    "    for i in range(len(wt)):\n",
    "        if      (wt[i]==0) and (ko[i]==0):\n",
    "                remain_off.append(i);\n",
    "        elif    (wt[i]==0) and (ko[i]!=0):\n",
    "                turn_on.append(i);\n",
    "        elif    (wt[i]!=0) and (ko[i]==0):\n",
    "                turn_off.append(i);\n",
    "        elif    (wt[i]!=ko[i]) and ((float(wt[i])/float(ko[i]))<0):\n",
    "                reverse.append(i);\n",
    "        elif    (wt[i]!=ko[i]) and (float(abs(ko[i]))>float(abs(wt[i]))):\n",
    "                turn_up.append(i);\n",
    "        elif    (wt[i]!=ko[i]) and (float(abs(ko[i]))<float(abs(wt[i]))):\n",
    "                turn_down.append(i);\n",
    "        elif    (wt[i]==ko[i]):\n",
    "                remain_same.append(i);\n",
    "\n",
    "    return turn_on,turn_off,turn_up,turn_down,reverse,remain_same,remain_off\n",
    "\n",
    "\n",
    "\n",
    "turn_on,turn_off,turn_up,turn_down,reverse,remain_same,remain_off = classify_fluxe_changes(v07_all,v7_all)\n",
    "print [len(x) for x in turn_on,turn_off,turn_up,turn_down,reverse,remain_same,remain_off]"
   ]
  },
  {
   "cell_type": "code",
   "execution_count": 40,
   "metadata": {
    "collapsed": false
   },
   "outputs": [],
   "source": [
    "writer = pd.ExcelWriter('./_output/flux_summary.xlsx')"
   ]
  },
  {
   "cell_type": "markdown",
   "metadata": {},
   "source": [
    "###Upregulated reactions"
   ]
  },
  {
   "cell_type": "code",
   "execution_count": 41,
   "metadata": {
    "collapsed": false
   },
   "outputs": [],
   "source": [
    "halos_up                         = halos.loc[[rxn_ids[x] for x in turn_up],:]\n",
    "halos_up['flux(delta:ura3)']     = v07_all[turn_up].astype(float)\n",
    "halos_up['flux(delta:trmb)']     = v7_all[turn_up].astype(float)\n",
    "halos_up['flux(absolute difference)'] = abs(v07_all[turn_up].astype(float)-v7_all[turn_up].astype(float)).astype(float)\n",
    "halos_up['flux(relative difference)'] = (halos_up['flux(absolute difference)'].values/abs(v07_all[turn_up].astype(float))).astype(float)\n",
    "cols     = halos_up.columns.tolist();\n",
    "cols     = cols[-4:]+cols[0:-4]\n",
    "halos_up = halos_up[cols]\n",
    "halos_up = halos_up.sort(['flux(relative difference)'],ascending=False)\n",
    "halos_up.to_excel(writer,sheet_name='upregulated_reactions')"
   ]
  },
  {
   "cell_type": "markdown",
   "metadata": {},
   "source": [
    "###Downregulated reactions"
   ]
  },
  {
   "cell_type": "code",
   "execution_count": 42,
   "metadata": {
    "collapsed": false
   },
   "outputs": [],
   "source": [
    "halos_down                         = halos.loc[[rxn_ids[x] for x in turn_down],:]\n",
    "halos_down['flux(delta:ura3)']     = v07_all[turn_down].astype(float)\n",
    "halos_down['flux(delta:trmb)']     = v7_all[turn_down].astype(float)\n",
    "halos_down['flux(absolute difference)'] = abs(v07_all[turn_down].astype(float)-v7_all[turn_down].astype(float))\n",
    "halos_down['flux(relative difference)'] = halos_down['flux(absolute difference)'].values/abs(v07_all[turn_down].astype(float))\n",
    "cols       = halos_down.columns.tolist();\n",
    "cols       = cols[-4:]+cols[0:-4]\n",
    "halos_down = halos_down[cols]\n",
    "halos_down = halos_down.sort(['flux(relative difference)'],ascending=False)\n",
    "halos_down.to_excel(writer,sheet_name='downregulated_reactions')"
   ]
  },
  {
   "cell_type": "markdown",
   "metadata": {},
   "source": [
    "###Turned on reactions"
   ]
  },
  {
   "cell_type": "code",
   "execution_count": 43,
   "metadata": {
    "collapsed": false,
    "scrolled": true
   },
   "outputs": [],
   "source": [
    "halos_turn_on = halos.loc[[rxn_ids[x] for x in turn_on],:]\n",
    "halos_turn_on['flux(delta:ura3)']=v07_all[turn_on].astype(float)\n",
    "halos_turn_on['flux(delta:trmb)']=v7_all[turn_on].astype(float)\n",
    "cols  = halos_turn_on.columns.tolist();\n",
    "cols  = cols[-2:]+cols[0:-2]\n",
    "halos_turn_on = halos_turn_on[cols]\n",
    "halos_turn_on = halos_turn_on.sort(['flux(delta:trmb)'],ascending=False)\n",
    "halos_turn_on.to_excel(writer,sheet_name='turned_on_reactions')"
   ]
  },
  {
   "cell_type": "markdown",
   "metadata": {},
   "source": [
    "###Turned off reactions"
   ]
  },
  {
   "cell_type": "code",
   "execution_count": 44,
   "metadata": {
    "collapsed": false
   },
   "outputs": [],
   "source": [
    "halos_turn_off = halos.loc[[rxn_ids[x] for x in turn_off],:]\n",
    "halos_turn_off['flux(delta:ura3)']=v07_all[turn_off].astype(float)\n",
    "halos_turn_off['flux(delta:trmb)']=v7_all[turn_off].astype(float)\n",
    "cols  = halos_turn_off.columns.tolist();\n",
    "cols  = cols[-2:]+cols[0:-2]\n",
    "halos_turn_off = halos_turn_off[cols]\n",
    "halos_turn_off = halos_turn_off.sort(['flux(delta:ura3)'],ascending=False)\n",
    "halos_turn_off.to_excel(writer,sheet_name='turned_off_reactions')"
   ]
  },
  {
   "cell_type": "markdown",
   "metadata": {},
   "source": [
    "###Reversed reactions "
   ]
  },
  {
   "cell_type": "code",
   "execution_count": 45,
   "metadata": {
    "collapsed": false,
    "scrolled": false
   },
   "outputs": [],
   "source": [
    "halos_reverse = halos.loc[[rxn_ids[x] for x in reverse],:]\n",
    "halos_reverse['flux(delta:ura3)']=v07_all[reverse].astype(float)\n",
    "halos_reverse['flux(delta:trmb)']=v7_all[reverse].astype(float)\n",
    "halos_reverse['flux(absolute difference)']=abs(v07_all[reverse].astype(float)-v7_all[reverse].astype(float))\n",
    "cols  = halos_reverse.columns.tolist();\n",
    "cols  = cols[-3:]+cols[0:-3]\n",
    "halos_reverse = halos_reverse[cols]\n",
    "halos_reverse = halos_reverse.sort(['flux(absolute difference)'],ascending=False)\n",
    "halos_reverse.to_excel(writer,sheet_name='reversed_reactions')"
   ]
  },
  {
   "cell_type": "markdown",
   "metadata": {},
   "source": [
    "###Remain inactive fluxes"
   ]
  },
  {
   "cell_type": "code",
   "execution_count": 46,
   "metadata": {
    "collapsed": false
   },
   "outputs": [],
   "source": [
    "halos_remain_off = halos.loc[[rxn_ids[x] for x in remain_off],:]\n",
    "halos_remain_off.to_excel(writer,sheet_name='remains_off_reactions')"
   ]
  },
  {
   "cell_type": "markdown",
   "metadata": {},
   "source": [
    "###Unchanged reactions"
   ]
  },
  {
   "cell_type": "code",
   "execution_count": 47,
   "metadata": {
    "collapsed": false
   },
   "outputs": [],
   "source": [
    "halos_stay_same = halos.loc[[rxn_ids[x] for x in remain_same],:]\n",
    "halos_stay_same['flux']=v07_all[remain_same].astype(float)\n",
    "cols  = halos_stay_same.columns.tolist();\n",
    "cols  = cols[-1:]+cols[0:-1]\n",
    "halos_stay_same = halos_stay_same[cols]\n",
    "halos_stay_same = halos_stay_same.sort(['flux'],ascending=False)\n",
    "halos_stay_same.to_excel(writer,sheet_name='unchanged_reactions')"
   ]
  },
  {
   "cell_type": "code",
   "execution_count": 48,
   "metadata": {
    "collapsed": true
   },
   "outputs": [],
   "source": [
    "writer.save()"
   ]
  },
  {
   "cell_type": "code",
   "execution_count": null,
   "metadata": {
    "collapsed": true
   },
   "outputs": [],
   "source": []
  },
  {
   "cell_type": "code",
   "execution_count": null,
   "metadata": {
    "collapsed": true
   },
   "outputs": [],
   "source": []
  }
 ],
 "metadata": {
  "kernelspec": {
   "display_name": "Python 2",
   "language": "python",
   "name": "python2"
  },
  "language_info": {
   "codemirror_mode": {
    "name": "ipython",
    "version": 2
   },
   "file_extension": ".py",
   "mimetype": "text/x-python",
   "name": "python",
   "nbconvert_exporter": "python",
   "pygments_lexer": "ipython2",
   "version": "2.7.5"
  }
 },
 "nbformat": 4,
 "nbformat_minor": 0
}
